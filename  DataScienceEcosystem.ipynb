{
 "cells": [
  {
   "cell_type": "markdown",
   "id": "711a7b0e-7a09-49d8-a6ff-c02a616391e8",
   "metadata": {},
   "source": [
    "# Data science Tools and Ecosystem"
   ]
  },
  {
   "cell_type": "markdown",
   "id": "79fade10-94c3-46fa-8f53-f0bb958e5fcd",
   "metadata": {},
   "source": [
    "# In this notebook, Data Science Tools and Ecosystem are summarized."
   ]
  },
  {
   "cell_type": "markdown",
   "id": "dfffebbf-a3a5-466a-8e06-d93552fd63e7",
   "metadata": {},
   "source": [
    "# Some of the popular languages that Data Scientists use are:\n",
    "\n",
    "1. Python\n",
    "2. SQL\n",
    "3. Scala\n",
    "4. C++\n",
    "5. Javascript"
   ]
  },
  {
   "cell_type": "markdown",
   "id": "a85c7afb-9f81-477c-84c5-535590bd9289",
   "metadata": {},
   "source": [
    "# Some of the commonly used libraries used by Data Scientists include:\n",
    "\n",
    "1. Pandas\n",
    "2. NumPy\n",
    "3. Scikit-learn\n",
    "4. TensorFlow\n",
    "5. Matplotlib"
   ]
  },
  {
   "cell_type": "markdown",
   "id": "e65773a2-9232-4be5-ae18-b56d30ce21fc",
   "metadata": {},
   "source": [
    "# Data Science Tools :\n",
    "\n",
    "|Tools            |\n",
    "-------------------\n",
    "|Jupyter Notebooks|\n",
    "|RStudio          |\n",
    "|Visual Code      |"
   ]
  },
  {
   "cell_type": "markdown",
   "id": "fb2b1a3b-0c74-41b2-af98-a089c7c3ed20",
   "metadata": {},
   "source": [
    "### Below are a few examples of evaluating arithmetic expressions in Python :\n",
    "\n",
    "1. Addition : 5 + 8\n",
    "2. Soustraction : 8 - 5\n",
    "3. Multiplication : 5 * 8"
   ]
  },
  {
   "cell_type": "code",
   "execution_count": 21,
   "id": "8f3df4e4-f5e1-424e-8659-9d72b6840dbb",
   "metadata": {},
   "outputs": [
    {
     "data": {
      "text/plain": [
       "17"
      ]
     },
     "execution_count": 21,
     "metadata": {},
     "output_type": "execute_result"
    }
   ],
   "source": [
    "# This a simple arithmetic expression to mutiply then add integers : \n",
    "(3*4)+5"
   ]
  },
  {
   "cell_type": "code",
   "execution_count": 27,
   "id": "48825353-4447-4a61-aebd-0c2405ba6515",
   "metadata": {},
   "outputs": [
    {
     "name": "stdout",
     "output_type": "stream",
     "text": [
      "3.3333333333333335\n"
     ]
    }
   ],
   "source": [
    "# We are going to convert 200 minutes into hours. To do this we must first know that an hour includes 60 minutes so it is enough to divide the number of minutes by 60 to know the number of hours \n",
    "x = 200\n",
    "h = x / 60\n",
    "print(h)\n"
   ]
  },
  {
   "cell_type": "markdown",
   "id": "ea2bb68a-23cd-4cac-a873-49edeb1d225d",
   "metadata": {},
   "source": [
    "**Objectives:**\n",
    "\n",
    "- List popular languages for Data Science.\n",
    "- Introduce commonly used libraries in Data Science.\n",
    "- Demonstrate arithmetic operations in Python.\n",
    "- Provide examples of evaluating expressions.\n",
    "- Introduce open-source development tools for Data Science."
   ]
  },
  {
   "cell_type": "code",
   "execution_count": null,
   "id": "a761a2d7-762d-4575-997b-ad01d033b135",
   "metadata": {},
   "outputs": [],
   "source": []
  }
 ],
 "metadata": {
  "kernelspec": {
   "display_name": "Python 3 (ipykernel)",
   "language": "python",
   "name": "python3"
  },
  "language_info": {
   "codemirror_mode": {
    "name": "ipython",
    "version": 3
   },
   "file_extension": ".py",
   "mimetype": "text/x-python",
   "name": "python",
   "nbconvert_exporter": "python",
   "pygments_lexer": "ipython3",
   "version": "3.12.4"
  }
 },
 "nbformat": 4,
 "nbformat_minor": 5
}
